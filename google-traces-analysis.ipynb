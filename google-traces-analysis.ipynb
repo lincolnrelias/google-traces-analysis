{
 "cells": [
  {
   "cell_type": "markdown",
   "metadata": {},
   "source": [
    "<h2>Análise de traços de execução</h2>"
   ]
  },
  {
   "cell_type": "markdown",
   "metadata": {},
   "source": [
    "<h3>Installs de bibliotecas necessárias</h3>"
   ]
  },
  {
   "cell_type": "code",
   "execution_count": 2,
   "metadata": {},
   "outputs": [
    {
     "name": "stdout",
     "output_type": "stream",
     "text": [
      "Requirement already satisfied: findspark in c:\\users\\322010\\appdata\\local\\programs\\python\\python310\\lib\\site-packages (2.0.1)\n",
      "Requirement already satisfied: pyspark_dist_explore in c:\\users\\322010\\appdata\\local\\programs\\python\\python310\\lib\\site-packages (0.1.8)\n",
      "Requirement already satisfied: pyspark in c:\\users\\322010\\appdata\\local\\programs\\python\\python310\\lib\\site-packages (3.3.0)\n",
      "Requirement already satisfied: plotly in c:\\users\\322010\\appdata\\local\\programs\\python\\python310\\lib\\site-packages (5.9.0)\n",
      "Requirement already satisfied: pandas in c:\\users\\322010\\appdata\\local\\programs\\python\\python310\\lib\\site-packages (1.4.2)\n",
      "Requirement already satisfied: chart-studio in c:\\users\\322010\\appdata\\local\\programs\\python\\python310\\lib\\site-packages (1.1.0)\n",
      "Requirement already satisfied: matplotlib in c:\\users\\322010\\appdata\\local\\programs\\python\\python310\\lib\\site-packages (from pyspark_dist_explore) (3.5.2)\n",
      "Requirement already satisfied: scipy in c:\\users\\322010\\appdata\\local\\programs\\python\\python310\\lib\\site-packages (from pyspark_dist_explore) (1.8.1)\n",
      "Requirement already satisfied: numpy in c:\\users\\322010\\appdata\\local\\programs\\python\\python310\\lib\\site-packages (from pyspark_dist_explore) (1.22.4)\n",
      "Requirement already satisfied: py4j==0.10.9.5 in c:\\users\\322010\\appdata\\local\\programs\\python\\python310\\lib\\site-packages (from pyspark) (0.10.9.5)\n",
      "Requirement already satisfied: tenacity>=6.2.0 in c:\\users\\322010\\appdata\\local\\programs\\python\\python310\\lib\\site-packages (from plotly) (8.0.1)\n",
      "Requirement already satisfied: pytz>=2020.1 in c:\\users\\322010\\appdata\\local\\programs\\python\\python310\\lib\\site-packages (from pandas) (2022.1)\n",
      "Requirement already satisfied: python-dateutil>=2.8.1 in c:\\users\\322010\\appdata\\local\\programs\\python\\python310\\lib\\site-packages (from pandas) (2.8.2)\n",
      "Requirement already satisfied: retrying>=1.3.3 in c:\\users\\322010\\appdata\\local\\programs\\python\\python310\\lib\\site-packages (from chart-studio) (1.3.3)\n",
      "Requirement already satisfied: requests in c:\\users\\322010\\appdata\\local\\programs\\python\\python310\\lib\\site-packages (from chart-studio) (2.28.0)\n",
      "Requirement already satisfied: six in c:\\users\\322010\\appdata\\local\\programs\\python\\python310\\lib\\site-packages (from chart-studio) (1.16.0)\n",
      "Requirement already satisfied: packaging>=20.0 in c:\\users\\322010\\appdata\\local\\programs\\python\\python310\\lib\\site-packages (from matplotlib->pyspark_dist_explore) (21.3)\n",
      "Requirement already satisfied: kiwisolver>=1.0.1 in c:\\users\\322010\\appdata\\local\\programs\\python\\python310\\lib\\site-packages (from matplotlib->pyspark_dist_explore) (1.4.3)\n",
      "Requirement already satisfied: pillow>=6.2.0 in c:\\users\\322010\\appdata\\local\\programs\\python\\python310\\lib\\site-packages (from matplotlib->pyspark_dist_explore) (9.1.1)\n",
      "Requirement already satisfied: cycler>=0.10 in c:\\users\\322010\\appdata\\local\\programs\\python\\python310\\lib\\site-packages (from matplotlib->pyspark_dist_explore) (0.11.0)\n",
      "Requirement already satisfied: pyparsing>=2.2.1 in c:\\users\\322010\\appdata\\local\\programs\\python\\python310\\lib\\site-packages (from matplotlib->pyspark_dist_explore) (3.0.9)\n",
      "Requirement already satisfied: fonttools>=4.22.0 in c:\\users\\322010\\appdata\\local\\programs\\python\\python310\\lib\\site-packages (from matplotlib->pyspark_dist_explore) (4.33.3)\n",
      "Requirement already satisfied: idna<4,>=2.5 in c:\\users\\322010\\appdata\\local\\programs\\python\\python310\\lib\\site-packages (from requests->chart-studio) (3.3)\n",
      "Requirement already satisfied: urllib3<1.27,>=1.21.1 in c:\\users\\322010\\appdata\\local\\programs\\python\\python310\\lib\\site-packages (from requests->chart-studio) (1.26.9)\n",
      "Requirement already satisfied: certifi>=2017.4.17 in c:\\users\\322010\\appdata\\local\\programs\\python\\python310\\lib\\site-packages (from requests->chart-studio) (2022.6.15)\n",
      "Requirement already satisfied: charset-normalizer~=2.0.0 in c:\\users\\322010\\appdata\\local\\programs\\python\\python310\\lib\\site-packages (from requests->chart-studio) (2.0.12)\n",
      "Note: you may need to restart the kernel to use updated packages.\n"
     ]
    },
    {
     "name": "stderr",
     "output_type": "stream",
     "text": [
      "WARNING: You are using pip version 22.0.4; however, version 22.1.2 is available.\n",
      "You should consider upgrading via the 'c:\\Users\\322010\\AppData\\Local\\Programs\\Python\\Python310\\python.exe -m pip install --upgrade pip' command.\n"
     ]
    }
   ],
   "source": [
    "%pip install findspark pyspark_dist_explore pyspark plotly pandas chart-studio"
   ]
  },
  {
   "cell_type": "markdown",
   "metadata": {},
   "source": [
    "<h4>Primeiro utilizamos o findspark para que o ambiente saiba onde o spark está localizado.</h4>"
   ]
  },
  {
   "cell_type": "code",
   "execution_count": 3,
   "metadata": {},
   "outputs": [],
   "source": [
    "import findspark"
   ]
  },
  {
   "cell_type": "code",
   "execution_count": 4,
   "metadata": {},
   "outputs": [],
   "source": [
    "findspark.init()"
   ]
  },
  {
   "cell_type": "markdown",
   "metadata": {},
   "source": [
    "<h4>Imports(têm de ser feitos após o init do findspark)</h4>"
   ]
  },
  {
   "cell_type": "code",
   "execution_count": 19,
   "metadata": {},
   "outputs": [],
   "source": [
    "import pyspark\n",
    "from pyspark_dist_explore import hist\n",
    "import time\n",
    "import matplotlib.pyplot as plt\n",
    "from pyspark.sql.functions import col\n",
    "import math\n",
    "import sys,os\n",
    "from pyspark.sql import SparkSession\n",
    "import pandas as pd\n",
    "import pyspark.sql.functions as F\n",
    "from pyspark.sql.types import StructType,StructField, LongType, IntegerType,FloatType"
   ]
  },
  {
   "cell_type": "markdown",
   "metadata": {},
   "source": [
    "<h4>Inicializamos uma seção Spark, ou pegamos a que está atualmente em execução</h4>"
   ]
  },
  {
   "cell_type": "code",
   "execution_count": 6,
   "metadata": {},
   "outputs": [],
   "source": [
    "spark=SparkSession.builder.appName(\"Sessao\").getOrCreate()"
   ]
  },
  {
   "cell_type": "code",
   "execution_count": 7,
   "metadata": {},
   "outputs": [],
   "source": [
    "sc = spark.sparkContext"
   ]
  },
  {
   "cell_type": "markdown",
   "metadata": {},
   "source": [
    "<h4>Definimos um schema para o RDD</h4>"
   ]
  },
  {
   "cell_type": "code",
   "execution_count": 8,
   "metadata": {},
   "outputs": [],
   "source": [
    "instance_events_schema = StructType([ \\\n",
    "    StructField(\"time\",LongType(),True), \\\n",
    "    StructField(\"type\",IntegerType(),True), \\\n",
    "    StructField(\"collection_id\",IntegerType(),False), \\\n",
    "    StructField(\"priority\", IntegerType(), True), \\\n",
    "    StructField(\"instance_index\", IntegerType(), False), \\\n",
    "    StructField(\"resource_request.cpus\", FloatType(), True), \\\n",
    "    StructField(\"resource_request.memory\", FloatType(), True) \\\n",
    "  ])"
   ]
  },
  {
   "cell_type": "markdown",
   "metadata": {},
   "source": [
    "<h4>Carregamos um arquivo CSV em um RDD(sem cabeçalho e com o schema definido)</h4>"
   ]
  },
  {
   "cell_type": "code",
   "execution_count": 9,
   "metadata": {},
   "outputs": [],
   "source": [
    "rddCE = spark.read.option(\"header\",\"true\").schema(instance_events_schema).csv(\"instance_events/instance_events-000000000005.csv\")"
   ]
  },
  {
   "cell_type": "markdown",
   "metadata": {},
   "source": [
    "<h4>Média dos requerimentos de utilização de memória(por tipo de \"coisa\")</h4>"
   ]
  },
  {
   "cell_type": "markdown",
   "metadata": {},
   "source": [
    "<p>Ao persistir o RDD, operações subsequentes reutilizarão os dados relativos ao RDD em operações que o envolvam, diminuindo drasticamente o tempo de execução das mesmas</p>"
   ]
  },
  {
   "cell_type": "code",
   "execution_count": 10,
   "metadata": {},
   "outputs": [
    {
     "data": {
      "text/plain": [
       "DataFrame[time: bigint, type: int, collection_id: int, priority: int, instance_index: int, resource_request.cpus: float, resource_request.memory: float]"
      ]
     },
     "execution_count": 10,
     "metadata": {},
     "output_type": "execute_result"
    }
   ],
   "source": [
    "rddCE.persist()"
   ]
  },
  {
   "cell_type": "markdown",
   "metadata": {},
   "source": [
    "<p>Essa é executada sem cache</p>"
   ]
  },
  {
   "cell_type": "code",
   "execution_count": 10,
   "metadata": {},
   "outputs": [
    {
     "name": "stdout",
     "output_type": "stream",
     "text": [
      "+----+----------------------------+\n",
      "|type|avg(memory_resource_request)|\n",
      "+----+----------------------------+\n",
      "|   0|        0.003215060709829252|\n",
      "|   1|         0.01933770519928046|\n",
      "|   2|        0.003345685608592...|\n",
      "|   3|        0.003335462585395...|\n",
      "|   4|        0.003473938670384...|\n",
      "|   5|        0.020445465992991966|\n",
      "|   6|        0.004764337917852076|\n",
      "|   7|        0.002935408097730315|\n",
      "|   8|        0.005776905272776365|\n",
      "|   9|        0.003988534368734...|\n",
      "|  10|        0.008756889907134162|\n",
      "+----+----------------------------+\n",
      "\n"
     ]
    }
   ],
   "source": [
    "rddCE.orderBy('type').groupBy('type').agg({\"`memory_resource_request`\":'avg'}).show()"
   ]
  },
  {
   "cell_type": "markdown",
   "metadata": {},
   "source": [
    "<p>Essa é executada COM cache</p>"
   ]
  },
  {
   "cell_type": "code",
   "execution_count": 11,
   "metadata": {},
   "outputs": [
    {
     "name": "stdout",
     "output_type": "stream",
     "text": [
      "+----+-------------------------+\n",
      "|type|avg(cpu_resource_request)|\n",
      "+----+-------------------------+\n",
      "|   0|     0.009525861089444346|\n",
      "|   1|     0.009540171341634771|\n",
      "|   2|     0.009649705901209166|\n",
      "|   3|     0.009805624388920475|\n",
      "|   4|     0.009645259130290452|\n",
      "|   5|     0.008741734786721873|\n",
      "|   6|     0.014509926217036775|\n",
      "|   7|     0.009677616500338168|\n",
      "|   8|     0.018229468438387228|\n",
      "|   9|     0.013241837398293013|\n",
      "|  10|     0.011053578572176771|\n",
      "+----+-------------------------+\n",
      "\n"
     ]
    }
   ],
   "source": [
    "rddCE.orderBy('type').groupBy('type').agg({\"`cpu_resource_request`\":'avg'}).show()"
   ]
  },
  {
   "cell_type": "markdown",
   "metadata": {},
   "source": [
    "<h4>filtra os eventos de tasks com tipo=3(submissão), com valores de tempo dentro do intervalo observado no traço (0<t<MAXINT>>)</h4>"
   ]
  },
  {
   "cell_type": "code",
   "execution_count": 40,
   "metadata": {},
   "outputs": [],
   "source": [
    "rddCE = rddCE.filter((rddCE.time.isNotNull()) & (rddCE.type==3) & (rddCE.time>0) & (rddCE.time<sys.maxsize))"
   ]
  },
  {
   "cell_type": "markdown",
   "metadata": {},
   "source": [
    "Converte microssegundo em hora:"
   ]
  },
  {
   "cell_type": "code",
   "execution_count": 11,
   "metadata": {},
   "outputs": [],
   "source": [
    "def microToHour(x):\n",
    "    return math.floor(x/3.6e+9)"
   ]
  },
  {
   "cell_type": "markdown",
   "metadata": {},
   "source": [
    "Define o objeto udf, que pode ser utilizado pra aplicar a função microToHour no RDD"
   ]
  },
  {
   "cell_type": "code",
   "execution_count": 12,
   "metadata": {},
   "outputs": [],
   "source": [
    "udf_hours = F.udf(lambda x:microToHour(x),IntegerType())"
   ]
  },
  {
   "cell_type": "markdown",
   "metadata": {},
   "source": [
    "cria-se nova coluna com o tempo em horas e adiciona-a ao RDD"
   ]
  },
  {
   "cell_type": "code",
   "execution_count": 13,
   "metadata": {},
   "outputs": [],
   "source": [
    "rddWithH1 = rddCE.withColumn(\"hour\",udf_hours(col(\"time\")))"
   ]
  },
  {
   "cell_type": "code",
   "execution_count": 14,
   "metadata": {},
   "outputs": [],
   "source": [
    "rddWithH1 = rddWithH1.filter((rddWithH1.time.isNotNull()) & (rddWithH1.time>0) & (rddWithH1.time<sys.maxsize))"
   ]
  },
  {
   "cell_type": "markdown",
   "metadata": {},
   "source": [
    "Acha as máximas e mínimas das horas"
   ]
  },
  {
   "cell_type": "code",
   "execution_count": 25,
   "metadata": {},
   "outputs": [
    {
     "data": {
      "text/plain": [
       "(604799625804, 600777673)"
      ]
     },
     "execution_count": 25,
     "metadata": {},
     "output_type": "execute_result"
    }
   ],
   "source": [
    "maxTime = rddCE.agg({'time':'max'}).collect()[0][0]\n",
    "minTime = rddCE.agg({'time':'min'}).collect()[0][0]\n",
    "maxTime,minTime"
   ]
  },
  {
   "cell_type": "code",
   "execution_count": 27,
   "metadata": {},
   "outputs": [
    {
     "data": {
      "text/plain": [
       "11904.419161676647"
      ]
     },
     "execution_count": 27,
     "metadata": {},
     "output_type": "execute_result"
    }
   ],
   "source": [
    "rddCE.agg({'time':'count'}).collect()[0][0]/(microToHour(maxTime)-microToHour(minTime))"
   ]
  },
  {
   "cell_type": "markdown",
   "metadata": {},
   "source": [
    "Encontra a quantidade de tasks submetidas por hora, ao iterar por todos os arquivos"
   ]
  },
  {
   "cell_type": "code",
   "execution_count": 34,
   "metadata": {},
   "outputs": [
    {
     "data": {
      "text/plain": [
       "(600001531, 604799934699, 429141.46706586826)"
      ]
     },
     "execution_count": 34,
     "metadata": {},
     "output_type": "execute_result"
    }
   ],
   "source": [
    "minTime = sys.maxsize\n",
    "maxTime = 0\n",
    "type3Count = 0\n",
    "for filename in os.listdir(\"instance_events\"):\n",
    "    f = os.path.join(\"instance_events\",filename)\n",
    "    rddCE = spark.read.option(\"header\",\"true\").schema(instance_events_schema).csv(f)\n",
    "    rddCE.persist()\n",
    "    rddCE = rddCE.filter((rddCE.time.isNotNull()) & (rddCE.type==3) & (rddCE.time>0) & (rddCE.time<sys.maxsize))\n",
    "    type3Count = type3Count+rddCE.agg({'time':'count'}).collect()[0][0]\n",
    "    if rddCE.agg({'time':'count'}).collect()[0][0]>0:\n",
    "        maxTime = max(maxTime,rddCE.agg({'time':'max'}).collect()[0][0])\n",
    "        minTime = min(minTime,rddCE.agg({'time':'min'}).collect()[0][0])\n",
    "    \n",
    "minTime,maxTime,type3Count/(microToHour(maxTime)-microToHour(minTime))"
   ]
  },
  {
   "cell_type": "code",
   "execution_count": 128,
   "metadata": {},
   "outputs": [],
   "source": [
    "rddWithHpHour = rddWithH.groupBy('hour').agg({\"`resource_request.memory`\":'sum'})"
   ]
  },
  {
   "cell_type": "code",
   "execution_count": 129,
   "metadata": {},
   "outputs": [],
   "source": [
    "rddWithHpHour1 = rddWithH1.groupBy('hour').agg({\"`resource_request.memory`\":'sum'})"
   ]
  },
  {
   "cell_type": "code",
   "execution_count": 127,
   "metadata": {},
   "outputs": [
    {
     "data": {
      "text/plain": [
       "StructType(List(StructField(time,LongType,true),StructField(type,IntegerType,true),StructField(collection_id,IntegerType,true),StructField(priority,IntegerType,true),StructField(instance_index,IntegerType,true),StructField(resource_request.cpus,FloatType,true),StructField(resource_request.memory,FloatType,true),StructField(hour,IntegerType,true)))"
      ]
     },
     "execution_count": 127,
     "metadata": {},
     "output_type": "execute_result"
    }
   ],
   "source": [
    "rddWithH1.schema"
   ]
  },
  {
   "cell_type": "code",
   "execution_count": 81,
   "metadata": {},
   "outputs": [
    {
     "data": {
      "text/plain": [
       "DataFrame[hour: int, sum(resource_request.memory): double]"
      ]
     },
     "execution_count": 81,
     "metadata": {},
     "output_type": "execute_result"
    }
   ],
   "source": [
    "collsToDrop = (\"time\",\"collection_id\",\"type\",\"priority\",\"instance_index\",\"resource_request.cpus\",\"resource_request.memory\")\n",
    "rddWithHpHour.drop(*collsToDrop)\n",
    "rddWithHpHour1.drop(*collsToDrop)"
   ]
  },
  {
   "cell_type": "code",
   "execution_count": 130,
   "metadata": {},
   "outputs": [
    {
     "name": "stdout",
     "output_type": "stream",
     "text": [
      "root\n",
      " |-- hour: integer (nullable = true)\n",
      " |-- m_sum2: double (nullable = true)\n",
      " |-- m_sum1: double (nullable = true)\n",
      "\n"
     ]
    }
   ],
   "source": [
    "rddWithHpHour =  rddWithHpHour.withColumnRenamed(\"sum(resource_request.memory)\",\"m_sum1\")\n",
    "rddWithHpHour1=  rddWithHpHour1.withColumnRenamed(\"sum(resource_request.memory)\",\"m_sum2\")\n",
    "j = rddWithHpHour1.join(rddWithHpHour,rddWithHpHour1.hour == rddWithHpHour.hour).drop(rddWithHpHour.hour)\n",
    "j.printSchema()"
   ]
  },
  {
   "cell_type": "code",
   "execution_count": 131,
   "metadata": {},
   "outputs": [],
   "source": [
    "j=j.withColumn(\"m_sum1\",col(\"m_sum1\")+col(\"m_sum2\")).drop(\"m_sum2\").orderBy(\"hour\")\n",
    "j.s"
   ]
  },
  {
   "cell_type": "markdown",
   "metadata": {},
   "source": [
    "gráfico do consumo de memória por hora"
   ]
  },
  {
   "cell_type": "code",
   "execution_count": 123,
   "metadata": {},
   "outputs": [
    {
     "data": {
      "image/png": "[encoded data removed]",
      "text/plain": [
       "<Figure size 432x288 with 1 Axes>"
      ]
     },
     "metadata": {
      "needs_background": "light"
     },
     "output_type": "display_data"
    }
   ],
   "source": [
    "y_ans_val = [val.m_sum1 for val in j.select('m_sum1').orderBy('hour').collect()]\n",
    "x_ts = [val.hour for val in j.select('hour').orderBy('hour').collect()]\n",
    "\n",
    "plt.plot(x_ts, y_ans_val)\n",
    "\n",
    "plt.ylabel('consumo')\n",
    "plt.xlabel('timestamp')\n",
    "plt.title('ASN values for time')\n",
    "\n",
    "plt.show()"
   ]
  },
  {
   "cell_type": "code",
   "execution_count": 23,
   "metadata": {},
   "outputs": [
    {
     "ename": "Py4JJavaError",
     "evalue": "An error occurred while calling o72.collectToPython.\n: java.lang.OutOfMemoryError: GC overhead limit exceeded\r\n\tat org.apache.spark.sql.execution.SparkPlan$$anon$1.next(SparkPlan.scala:375)\r\n\tat org.apache.spark.sql.execution.SparkPlan$$anon$1.next(SparkPlan.scala:369)\r\n\tat scala.collection.Iterator.foreach(Iterator.scala:941)\r\n\tat scala.collection.Iterator.foreach$(Iterator.scala:941)\r\n\tat org.apache.spark.sql.execution.SparkPlan$$anon$1.foreach(SparkPlan.scala:369)\r\n\tat org.apache.spark.sql.execution.SparkPlan.$anonfun$executeCollect$1(SparkPlan.scala:391)\r\n\tat org.apache.spark.sql.execution.SparkPlan.$anonfun$executeCollect$1$adapted(SparkPlan.scala:390)\r\n\tat org.apache.spark.sql.execution.SparkPlan$$Lambda$3586/296277120.apply(Unknown Source)\r\n\tat scala.collection.IndexedSeqOptimized.foreach(IndexedSeqOptimized.scala:36)\r\n\tat scala.collection.IndexedSeqOptimized.foreach$(IndexedSeqOptimized.scala:33)\r\n\tat scala.collection.mutable.ArrayOps$ofRef.foreach(ArrayOps.scala:198)\r\n\tat org.apache.spark.sql.execution.SparkPlan.executeCollect(SparkPlan.scala:390)\r\n\tat org.apache.spark.sql.Dataset.$anonfun$collectToPython$1(Dataset.scala:3532)\r\n\tat org.apache.spark.sql.Dataset$$Lambda$3503/1837096596.apply(Unknown Source)\r\n\tat org.apache.spark.sql.Dataset.$anonfun$withAction$1(Dataset.scala:3700)\r\n\tat org.apache.spark.sql.Dataset$$Lambda$1608/59652402.apply(Unknown Source)\r\n\tat org.apache.spark.sql.execution.SQLExecution$.$anonfun$withNewExecutionId$5(SQLExecution.scala:103)\r\n\tat org.apache.spark.sql.execution.SQLExecution$$$Lambda$1616/1809431950.apply(Unknown Source)\r\n\tat org.apache.spark.sql.execution.SQLExecution$.withSQLConfPropagated(SQLExecution.scala:163)\r\n\tat org.apache.spark.sql.execution.SQLExecution$.$anonfun$withNewExecutionId$1(SQLExecution.scala:90)\r\n\tat org.apache.spark.sql.execution.SQLExecution$$$Lambda$1609/183189189.apply(Unknown Source)\r\n\tat org.apache.spark.sql.SparkSession.withActive(SparkSession.scala:775)\r\n\tat org.apache.spark.sql.execution.SQLExecution$.withNewExecutionId(SQLExecution.scala:64)\r\n\tat org.apache.spark.sql.Dataset.withAction(Dataset.scala:3698)\r\n\tat org.apache.spark.sql.Dataset.collectToPython(Dataset.scala:3529)\r\n\tat sun.reflect.NativeMethodAccessorImpl.invoke0(Native Method)\r\n\tat sun.reflect.NativeMethodAccessorImpl.invoke(Unknown Source)\r\n\tat sun.reflect.DelegatingMethodAccessorImpl.invoke(Unknown Source)\r\n\tat java.lang.reflect.Method.invoke(Unknown Source)\r\n\tat py4j.reflection.MethodInvoker.invoke(MethodInvoker.java:244)\r\n\tat py4j.reflection.ReflectionEngine.invoke(ReflectionEngine.java:357)\r\n\tat py4j.Gateway.invoke(Gateway.java:282)\r\n",
     "output_type": "error",
     "traceback": [
      "\u001b[1;31m---------------------------------------------------------------------------\u001b[0m",
      "\u001b[1;31mPy4JJavaError\u001b[0m                             Traceback (most recent call last)",
      "\u001b[1;32mc:\\Users\\322010\\google-traces-analysis\\google-traces-analysis.ipynb Cell 45'\u001b[0m in \u001b[0;36m<cell line: 1>\u001b[1;34m()\u001b[0m\n\u001b[1;32m----> <a href='vscode-notebook-cell:/c%3A/Users/322010/google-traces-analysis/google-traces-analysis.ipynb#ch0000044?line=0'>1</a>\u001b[0m rddWithH1\u001b[39m.\u001b[39;49mtoPandas()\n",
      "File \u001b[1;32mC:\\spark-3.1.3-bin-hadoop2.7\\python\\pyspark\\sql\\pandas\\conversion.py:141\u001b[0m, in \u001b[0;36mPandasConversionMixin.toPandas\u001b[1;34m(self)\u001b[0m\n\u001b[0;32m    138\u001b[0m             \u001b[39mraise\u001b[39;00m\n\u001b[0;32m    140\u001b[0m \u001b[39m# Below is toPandas without Arrow optimization.\u001b[39;00m\n\u001b[1;32m--> 141\u001b[0m pdf \u001b[39m=\u001b[39m pd\u001b[39m.\u001b[39mDataFrame\u001b[39m.\u001b[39mfrom_records(\u001b[39mself\u001b[39;49m\u001b[39m.\u001b[39;49mcollect(), columns\u001b[39m=\u001b[39m\u001b[39mself\u001b[39m\u001b[39m.\u001b[39mcolumns)\n\u001b[0;32m    142\u001b[0m column_counter \u001b[39m=\u001b[39m Counter(\u001b[39mself\u001b[39m\u001b[39m.\u001b[39mcolumns)\n\u001b[0;32m    144\u001b[0m dtype \u001b[39m=\u001b[39m [\u001b[39mNone\u001b[39;00m] \u001b[39m*\u001b[39m \u001b[39mlen\u001b[39m(\u001b[39mself\u001b[39m\u001b[39m.\u001b[39mschema)\n",
      "File \u001b[1;32mC:\\spark-3.1.3-bin-hadoop2.7\\python\\pyspark\\sql\\dataframe.py:677\u001b[0m, in \u001b[0;36mDataFrame.collect\u001b[1;34m(self)\u001b[0m\n\u001b[0;32m    667\u001b[0m \u001b[39m\"\"\"Returns all the records as a list of :class:`Row`.\u001b[39;00m\n\u001b[0;32m    668\u001b[0m \n\u001b[0;32m    669\u001b[0m \u001b[39m.. versionadded:: 1.3.0\u001b[39;00m\n\u001b[1;32m   (...)\u001b[0m\n\u001b[0;32m    674\u001b[0m \u001b[39m[Row(age=2, name='Alice'), Row(age=5, name='Bob')]\u001b[39;00m\n\u001b[0;32m    675\u001b[0m \u001b[39m\"\"\"\u001b[39;00m\n\u001b[0;32m    676\u001b[0m \u001b[39mwith\u001b[39;00m SCCallSiteSync(\u001b[39mself\u001b[39m\u001b[39m.\u001b[39m_sc) \u001b[39mas\u001b[39;00m css:\n\u001b[1;32m--> 677\u001b[0m     sock_info \u001b[39m=\u001b[39m \u001b[39mself\u001b[39;49m\u001b[39m.\u001b[39;49m_jdf\u001b[39m.\u001b[39;49mcollectToPython()\n\u001b[0;32m    678\u001b[0m \u001b[39mreturn\u001b[39;00m \u001b[39mlist\u001b[39m(_load_from_socket(sock_info, BatchedSerializer(PickleSerializer())))\n",
      "File \u001b[1;32mC:\\spark-3.1.3-bin-hadoop2.7\\python\\lib\\py4j-0.10.9-src.zip\\py4j\\java_gateway.py:1304\u001b[0m, in \u001b[0;36mJavaMember.__call__\u001b[1;34m(self, *args)\u001b[0m\n\u001b[0;32m   1298\u001b[0m command \u001b[39m=\u001b[39m proto\u001b[39m.\u001b[39mCALL_COMMAND_NAME \u001b[39m+\u001b[39m\\\n\u001b[0;32m   1299\u001b[0m     \u001b[39mself\u001b[39m\u001b[39m.\u001b[39mcommand_header \u001b[39m+\u001b[39m\\\n\u001b[0;32m   1300\u001b[0m     args_command \u001b[39m+\u001b[39m\\\n\u001b[0;32m   1301\u001b[0m     proto\u001b[39m.\u001b[39mEND_COMMAND_PART\n\u001b[0;32m   1303\u001b[0m answer \u001b[39m=\u001b[39m \u001b[39mself\u001b[39m\u001b[39m.\u001b[39mgateway_client\u001b[39m.\u001b[39msend_command(command)\n\u001b[1;32m-> 1304\u001b[0m return_value \u001b[39m=\u001b[39m get_return_value(\n\u001b[0;32m   1305\u001b[0m     answer, \u001b[39mself\u001b[39;49m\u001b[39m.\u001b[39;49mgateway_client, \u001b[39mself\u001b[39;49m\u001b[39m.\u001b[39;49mtarget_id, \u001b[39mself\u001b[39;49m\u001b[39m.\u001b[39;49mname)\n\u001b[0;32m   1307\u001b[0m \u001b[39mfor\u001b[39;00m temp_arg \u001b[39min\u001b[39;00m temp_args:\n\u001b[0;32m   1308\u001b[0m     temp_arg\u001b[39m.\u001b[39m_detach()\n",
      "File \u001b[1;32mC:\\spark-3.1.3-bin-hadoop2.7\\python\\pyspark\\sql\\utils.py:111\u001b[0m, in \u001b[0;36mcapture_sql_exception.<locals>.deco\u001b[1;34m(*a, **kw)\u001b[0m\n\u001b[0;32m    109\u001b[0m \u001b[39mdef\u001b[39;00m \u001b[39mdeco\u001b[39m(\u001b[39m*\u001b[39ma, \u001b[39m*\u001b[39m\u001b[39m*\u001b[39mkw):\n\u001b[0;32m    110\u001b[0m     \u001b[39mtry\u001b[39;00m:\n\u001b[1;32m--> 111\u001b[0m         \u001b[39mreturn\u001b[39;00m f(\u001b[39m*\u001b[39ma, \u001b[39m*\u001b[39m\u001b[39m*\u001b[39mkw)\n\u001b[0;32m    112\u001b[0m     \u001b[39mexcept\u001b[39;00m py4j\u001b[39m.\u001b[39mprotocol\u001b[39m.\u001b[39mPy4JJavaError \u001b[39mas\u001b[39;00m e:\n\u001b[0;32m    113\u001b[0m         converted \u001b[39m=\u001b[39m convert_exception(e\u001b[39m.\u001b[39mjava_exception)\n",
      "File \u001b[1;32mC:\\spark-3.1.3-bin-hadoop2.7\\python\\lib\\py4j-0.10.9-src.zip\\py4j\\protocol.py:326\u001b[0m, in \u001b[0;36mget_return_value\u001b[1;34m(answer, gateway_client, target_id, name)\u001b[0m\n\u001b[0;32m    324\u001b[0m value \u001b[39m=\u001b[39m OUTPUT_CONVERTER[\u001b[39mtype\u001b[39m](answer[\u001b[39m2\u001b[39m:], gateway_client)\n\u001b[0;32m    325\u001b[0m \u001b[39mif\u001b[39;00m answer[\u001b[39m1\u001b[39m] \u001b[39m==\u001b[39m REFERENCE_TYPE:\n\u001b[1;32m--> 326\u001b[0m     \u001b[39mraise\u001b[39;00m Py4JJavaError(\n\u001b[0;32m    327\u001b[0m         \u001b[39m\"\u001b[39m\u001b[39mAn error occurred while calling \u001b[39m\u001b[39m{0}\u001b[39;00m\u001b[39m{1}\u001b[39;00m\u001b[39m{2}\u001b[39;00m\u001b[39m.\u001b[39m\u001b[39m\\n\u001b[39;00m\u001b[39m\"\u001b[39m\u001b[39m.\u001b[39m\n\u001b[0;32m    328\u001b[0m         \u001b[39mformat\u001b[39m(target_id, \u001b[39m\"\u001b[39m\u001b[39m.\u001b[39m\u001b[39m\"\u001b[39m, name), value)\n\u001b[0;32m    329\u001b[0m \u001b[39melse\u001b[39;00m:\n\u001b[0;32m    330\u001b[0m     \u001b[39mraise\u001b[39;00m Py4JError(\n\u001b[0;32m    331\u001b[0m         \u001b[39m\"\u001b[39m\u001b[39mAn error occurred while calling \u001b[39m\u001b[39m{0}\u001b[39;00m\u001b[39m{1}\u001b[39;00m\u001b[39m{2}\u001b[39;00m\u001b[39m. Trace:\u001b[39m\u001b[39m\\n\u001b[39;00m\u001b[39m{3}\u001b[39;00m\u001b[39m\\n\u001b[39;00m\u001b[39m\"\u001b[39m\u001b[39m.\u001b[39m\n\u001b[0;32m    332\u001b[0m         \u001b[39mformat\u001b[39m(target_id, \u001b[39m\"\u001b[39m\u001b[39m.\u001b[39m\u001b[39m\"\u001b[39m, name, value))\n",
      "\u001b[1;31mPy4JJavaError\u001b[0m: An error occurred while calling o72.collectToPython.\n: java.lang.OutOfMemoryError: GC overhead limit exceeded\r\n\tat org.apache.spark.sql.execution.SparkPlan$$anon$1.next(SparkPlan.scala:375)\r\n\tat org.apache.spark.sql.execution.SparkPlan$$anon$1.next(SparkPlan.scala:369)\r\n\tat scala.collection.Iterator.foreach(Iterator.scala:941)\r\n\tat scala.collection.Iterator.foreach$(Iterator.scala:941)\r\n\tat org.apache.spark.sql.execution.SparkPlan$$anon$1.foreach(SparkPlan.scala:369)\r\n\tat org.apache.spark.sql.execution.SparkPlan.$anonfun$executeCollect$1(SparkPlan.scala:391)\r\n\tat org.apache.spark.sql.execution.SparkPlan.$anonfun$executeCollect$1$adapted(SparkPlan.scala:390)\r\n\tat org.apache.spark.sql.execution.SparkPlan$$Lambda$3586/296277120.apply(Unknown Source)\r\n\tat scala.collection.IndexedSeqOptimized.foreach(IndexedSeqOptimized.scala:36)\r\n\tat scala.collection.IndexedSeqOptimized.foreach$(IndexedSeqOptimized.scala:33)\r\n\tat scala.collection.mutable.ArrayOps$ofRef.foreach(ArrayOps.scala:198)\r\n\tat org.apache.spark.sql.execution.SparkPlan.executeCollect(SparkPlan.scala:390)\r\n\tat org.apache.spark.sql.Dataset.$anonfun$collectToPython$1(Dataset.scala:3532)\r\n\tat org.apache.spark.sql.Dataset$$Lambda$3503/1837096596.apply(Unknown Source)\r\n\tat org.apache.spark.sql.Dataset.$anonfun$withAction$1(Dataset.scala:3700)\r\n\tat org.apache.spark.sql.Dataset$$Lambda$1608/59652402.apply(Unknown Source)\r\n\tat org.apache.spark.sql.execution.SQLExecution$.$anonfun$withNewExecutionId$5(SQLExecution.scala:103)\r\n\tat org.apache.spark.sql.execution.SQLExecution$$$Lambda$1616/1809431950.apply(Unknown Source)\r\n\tat org.apache.spark.sql.execution.SQLExecution$.withSQLConfPropagated(SQLExecution.scala:163)\r\n\tat org.apache.spark.sql.execution.SQLExecution$.$anonfun$withNewExecutionId$1(SQLExecution.scala:90)\r\n\tat org.apache.spark.sql.execution.SQLExecution$$$Lambda$1609/183189189.apply(Unknown Source)\r\n\tat org.apache.spark.sql.SparkSession.withActive(SparkSession.scala:775)\r\n\tat org.apache.spark.sql.execution.SQLExecution$.withNewExecutionId(SQLExecution.scala:64)\r\n\tat org.apache.spark.sql.Dataset.withAction(Dataset.scala:3698)\r\n\tat org.apache.spark.sql.Dataset.collectToPython(Dataset.scala:3529)\r\n\tat sun.reflect.NativeMethodAccessorImpl.invoke0(Native Method)\r\n\tat sun.reflect.NativeMethodAccessorImpl.invoke(Unknown Source)\r\n\tat sun.reflect.DelegatingMethodAccessorImpl.invoke(Unknown Source)\r\n\tat java.lang.reflect.Method.invoke(Unknown Source)\r\n\tat py4j.reflection.MethodInvoker.invoke(MethodInvoker.java:244)\r\n\tat py4j.reflection.ReflectionEngine.invoke(ReflectionEngine.java:357)\r\n\tat py4j.Gateway.invoke(Gateway.java:282)\r\n"
     ]
    }
   ],
   "source": [
    "rddWithH1.sam.toPandas()"
   ]
  }
 ],
 "metadata": {
  "kernelspec": {
   "display_name": "Python 3.10.4 64-bit",
   "language": "python",
   "name": "python3"
  },
  "language_info": {
   "codemirror_mode": {
    "name": "ipython",
    "version": 3
   },
   "file_extension": ".py",
   "mimetype": "text/x-python",
   "name": "python",
   "nbconvert_exporter": "python",
   "pygments_lexer": "ipython3",
   "version": "3.10.4"
  },
  "vscode": {
   "interpreter": {
    "hash": "aa8ee55327338118c9b4517d613770d195c366ac837f284f64f7c768461f394a"
   }
  }
 },
 "nbformat": 4,
 "nbformat_minor": 2
}
